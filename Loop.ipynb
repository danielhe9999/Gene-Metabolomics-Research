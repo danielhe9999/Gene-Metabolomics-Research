{
 "cells": [
  {
   "cell_type": "code",
   "execution_count": 17,
   "metadata": {},
   "outputs": [],
   "source": [
    "#imports and loading model\n",
    "import cobra\n",
    "import cobra.test\n",
    "import os\n",
    "import pandas\n",
    "from time import time\n",
    "import cobra.test\n",
    "from cobra.flux_analysis import (single_gene_deletion, single_reaction_deletion, double_gene_deletion, double_reaction_deletion)\n",
    "from cobra.flux_analysis import flux_variability_analysis\n",
    "\n",
    "model = cobra.io.load_json_model(\"Recon3D.json\")"
   ]
  },
  {
   "cell_type": "code",
   "execution_count": 18,
   "metadata": {},
   "outputs": [
    {
     "name": "stdout",
     "output_type": "stream",
     "text": [
      "[['ACTB'], ['ACTL6A'], ['ANAPC2'], ['ATP5A1'], ['ATP5B'], ['CCT3'], ['CDC73'], ['CDK1'], ['CHAF1A']]\n"
     ]
    }
   ],
   "source": [
    "#loop through a list of genes to perform a single gene deletion followed by FVA and record the results in a structured way.\n",
    "\n",
    "#Creating a Python list of the genes\n",
    "import csv\n",
    "\n",
    "testfile = open('target.practice.csv')\n",
    "csv_f = csv.reader(testfile)\n",
    "\n",
    "list_of_genes = []\n",
    "# dictionary_of_genes = {}\n",
    "\n",
    "for row in csv_f:\n",
    "    list_of_genes.append(row)\n",
    "\n",
    "list_of_genes.remove(list_of_genes[0])\n",
    "print (list_of_genes)"
   ]
  },
  {
   "cell_type": "code",
   "execution_count": 20,
   "metadata": {},
   "outputs": [
    {
     "name": "stdout",
     "output_type": "stream",
     "text": [
      "['ACTB']\n",
      "['ACTL6A']\n",
      "['ANAPC2']\n",
      "['ATP5A1']\n",
      "['ATP5B']\n",
      "['CCT3']\n",
      "['CDC73']\n",
      "['CDK1']\n",
      "['CHAF1A']\n"
     ]
    }
   ],
   "source": [
    "for item in list_of_genes:\n",
    "    print(item)\n",
    "    #model.genes.get_by_id(item)\n"
   ]
  },
  {
   "cell_type": "code",
   "execution_count": 25,
   "metadata": {},
   "outputs": [],
   "source": [
    "model.genes.get_by_id('26_AT1').knock_out()\n",
    "\n",
    "flux_variability_analysis(model, reaction_list = model.reactions.get_by_id(\"10FTHF5GLUtl\"))"
   ]
  },
  {
   "cell_type": "code",
   "execution_count": null,
   "metadata": {},
   "outputs": [],
   "source": []
  }
 ],
 "metadata": {
  "kernelspec": {
   "display_name": "Python 3",
   "language": "python",
   "name": "python3"
  },
  "language_info": {
   "codemirror_mode": {
    "name": "ipython",
    "version": 3
   },
   "file_extension": ".py",
   "mimetype": "text/x-python",
   "name": "python",
   "nbconvert_exporter": "python",
   "pygments_lexer": "ipython3",
   "version": "3.7.4"
  }
 },
 "nbformat": 4,
 "nbformat_minor": 2
}
