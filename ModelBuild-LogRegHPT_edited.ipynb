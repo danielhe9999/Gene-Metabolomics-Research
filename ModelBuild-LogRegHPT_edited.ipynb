{
 "cells": [
  {
   "cell_type": "code",
   "execution_count": 2,
   "metadata": {},
   "outputs": [
    {
     "name": "stderr",
     "output_type": "stream",
     "text": [
      "C:\\Users\\danie\\Anaconda3\\lib\\site-packages\\sklearn\\externals\\joblib\\__init__.py:15: FutureWarning: sklearn.externals.joblib is deprecated in 0.21 and will be removed in 0.23. Please import this functionality directly from joblib, which can be installed with: pip install joblib. If this warning is raised when loading pickled models, you may need to re-serialize those models with scikit-learn 0.21+.\n",
      "  warnings.warn(msg, category=FutureWarning)\n"
     ]
    }
   ],
   "source": [
    "import pandas as pd \n",
    "from sklearn.metrics import mean_squared_error\n",
    "import numpy as np\n",
    "from sklearn.linear_model import LogisticRegression\n",
    "from sklearn.model_selection import train_test_split\n",
    "from sklearn import metrics \n",
    "from sklearn.model_selection import GridSearchCV\n",
    "from sklearn.preprocessing import StandardScaler\n",
    "import matplotlib.pyplot as plt\n",
    "from sklearn.pipeline import Pipeline\n",
    "from sklearn.linear_model import LogisticRegression\n",
    "from sklearn.model_selection import train_test_split\n",
    "from sklearn import metrics \n",
    "from sklearn.metrics import classification_report, confusion_matrix\n",
    "from sklearn.externals import joblib\n",
    "from sklearn.metrics import roc_curve, auc\n",
    "from sklearn.linear_model import LinearRegression\n",
    "import statsmodels.api as sm\n",
    "from sklearn.linear_model import ElasticNet"
   ]
  },
  {
   "cell_type": "code",
   "execution_count": 3,
   "metadata": {},
   "outputs": [],
   "source": [
    "df = pd.read_csv(\"Final.csv\")\n",
    "df.set_index('GeneName', inplace = True)"
   ]
  },
  {
   "cell_type": "code",
   "execution_count": 59,
   "metadata": {},
   "outputs": [],
   "source": [
    "#10 C choices from 0 to 10000\n",
    "C_options = np.logspace(0,4,10)"
   ]
  },
  {
   "cell_type": "code",
   "execution_count": 1,
   "metadata": {},
   "outputs": [
    {
     "ename": "NameError",
     "evalue": "name 'df' is not defined",
     "output_type": "error",
     "traceback": [
      "\u001b[1;31m---------------------------------------------------------------------------\u001b[0m",
      "\u001b[1;31mNameError\u001b[0m                                 Traceback (most recent call last)",
      "\u001b[1;32m<ipython-input-1-00cf07b74dcd>\u001b[0m in \u001b[0;36m<module>\u001b[1;34m\u001b[0m\n\u001b[1;32m----> 1\u001b[1;33m \u001b[0mdf\u001b[0m\u001b[1;33m\u001b[0m\u001b[1;33m\u001b[0m\u001b[0m\n\u001b[0m",
      "\u001b[1;31mNameError\u001b[0m: name 'df' is not defined"
     ]
    }
   ],
   "source": [
    "df"
   ]
  },
  {
   "cell_type": "code",
   "execution_count": 4,
   "metadata": {},
   "outputs": [
    {
     "name": "stdout",
     "output_type": "stream",
     "text": [
      "Fitting 5 folds for each of 10 candidates, totalling 50 fits\n"
     ]
    },
    {
     "name": "stderr",
     "output_type": "stream",
     "text": [
      "[Parallel(n_jobs=-1)]: Using backend LokyBackend with 8 concurrent workers.\n",
      "[Parallel(n_jobs=-1)]: Done  34 tasks      | elapsed:  2.1min\n",
      "[Parallel(n_jobs=-1)]: Done  50 out of  50 | elapsed:  6.1min finished\n"
     ]
    },
    {
     "data": {
      "text/plain": [
       "GridSearchCV(cv=5, error_score=nan,\n",
       "             estimator=Pipeline(memory=None,\n",
       "                                steps=[('classify',\n",
       "                                        LogisticRegression(C=1.0,\n",
       "                                                           class_weight='balanced',\n",
       "                                                           dual=False,\n",
       "                                                           fit_intercept=True,\n",
       "                                                           intercept_scaling=1,\n",
       "                                                           l1_ratio=None,\n",
       "                                                           max_iter=100,\n",
       "                                                           multi_class='auto',\n",
       "                                                           n_jobs=None,\n",
       "                                                           penalty='l2',\n",
       "                                                           random_state=123,\n",
       "                                                           solver='liblinear',\n",
       "                                                           tol=0.0001,\n",
       "                                                           verbose=0,\n",
       "                                                           warm_start=False))],\n",
       "                                verbose=False),\n",
       "             iid='deprecated', n_jobs=-1,\n",
       "             param_grid={'classify__C': array([1.00000000e+00, 2.78255940e+00, 7.74263683e+00, 2.15443469e+01,\n",
       "       5.99484250e+01, 1.66810054e+02, 4.64158883e+02, 1.29154967e+03,\n",
       "       3.59381366e+03, 1.00000000e+04]),\n",
       "                         'classify__penalty': ['l1']},\n",
       "             pre_dispatch='2*n_jobs', refit=True, return_train_score=True,\n",
       "             scoring='roc_auc', verbose=True)"
      ]
     },
     "execution_count": 4,
     "metadata": {},
     "output_type": "execute_result"
    }
   ],
   "source": [
    "#Finding optimal C\n",
    "\n",
    "X = df.drop(['Essential'], axis = 1)\n",
    "Y = df['Essential']\n",
    "\n",
    "X_train, X_test, Y_train, Y_test = train_test_split(X, Y, test_size = 0.2, random_state=12345)\n",
    "\n",
    "C_options = np.logspace(0,4,10) # Create a regularization hyperparameter space\n",
    "clf_parameters = {'classify__C': C_options, #Create hyperparameter options\n",
    "                  'classify__penalty': ['l1']}\n",
    "\n",
    "#Generate the pipeline. You don’t have to really scale the data if you have already done so\n",
    "estimator = Pipeline(steps=[('classify',LogisticRegression(random_state=123, \n",
    "                            solver = 'liblinear', class_weight='balanced',dual=False))])\n",
    "\n",
    "#Create a gridsearch using 5 fold cross validation. Best score will be evaluated by auc\n",
    "cv_pipeline = GridSearchCV(estimator=estimator, param_grid=clf_parameters,\n",
    "                           n_jobs=-1, cv = 5, verbose = True, scoring='roc_auc',\n",
    "                           return_train_score=True)\n",
    "\n",
    "#fit the grid sarch\n",
    "cv_pipeline.fit(X=X_train, y=Y_train)"
   ]
  },
  {
   "cell_type": "code",
   "execution_count": 5,
   "metadata": {},
   "outputs": [
    {
     "name": "stdout",
     "output_type": "stream",
     "text": [
      "[[547 121]\n",
      " [ 49 322]]\n"
     ]
    }
   ],
   "source": [
    "from sklearn.metrics import confusion_matrix\n",
    "y_pred_train = cv_pipeline.predict(X_train)\n",
    "confusion_matrix = confusion_matrix(Y_train, y_pred_train)\n",
    "print(confusion_matrix)"
   ]
  },
  {
   "cell_type": "code",
   "execution_count": 6,
   "metadata": {},
   "outputs": [
    {
     "name": "stdout",
     "output_type": "stream",
     "text": [
      "              precision    recall  f1-score   support\n",
      "\n",
      "           0       0.71      0.55      0.62       167\n",
      "           1       0.43      0.60      0.50        93\n",
      "\n",
      "    accuracy                           0.57       260\n",
      "   macro avg       0.57      0.58      0.56       260\n",
      "weighted avg       0.61      0.57      0.58       260\n",
      "\n"
     ]
    }
   ],
   "source": [
    "y_pred_test = cv_pipeline.predict(X_test)\n",
    "print(classification_report(Y_test, y_pred_test))"
   ]
  },
  {
   "cell_type": "code",
   "execution_count": 7,
   "metadata": {},
   "outputs": [],
   "source": [
    "misclassified_samples = X_test[Y_test != y_pred_test]"
   ]
  },
  {
   "cell_type": "code",
   "execution_count": 17,
   "metadata": {},
   "outputs": [],
   "source": [
    "logistic_misclassified = misclassified_samples.index.tolist()"
   ]
  },
  {
   "cell_type": "code",
   "execution_count": 64,
   "metadata": {
    "scrolled": true
   },
   "outputs": [
    {
     "data": {
      "image/png": "[encoded data removed]",
      "text/plain": [
       "<Figure size 432x288 with 1 Axes>"
      ]
     },
     "metadata": {
      "needs_background": "light"
     },
     "output_type": "display_data"
    }
   ],
   "source": [
    "y_test =Y_test.astype(int) # type them as integers\n",
    "\n",
    "probs = cv_pipeline.predict_proba(X_test)\n",
    "preds = probs[:,1]#get the probability for the positive class\n",
    "fpr, tpr, threshold = roc_curve(y_test, preds)\n",
    "roc_auc = auc(fpr, tpr)\n",
    "\n",
    "plt.title('Receiver Operating Characteristic')\n",
    "plt.plot(fpr, tpr, 'b', label = 'AUC = %0.2f' % roc_auc)\n",
    "plt.legend(loc = 'lower right')\n",
    "plt.plot([0, 1], [0, 1],'r--')\n",
    "plt.xlim([-0.05, 1.05])\n",
    "plt.ylim([-0.05, 1.05])\n",
    "plt.ylabel('True Positive Rate')\n",
    "plt.xlabel('False Positive Rate')\n",
    "plt.show()"
   ]
  },
  {
   "cell_type": "code",
   "execution_count": 8,
   "metadata": {},
   "outputs": [],
   "source": [
    "from sklearn.svm import LinearSVC"
   ]
  },
  {
   "cell_type": "code",
   "execution_count": 9,
   "metadata": {},
   "outputs": [],
   "source": [
    "C_options = np.logspace(0,4,10)\n",
    "\n",
    "clf_parameters = {'classify__C': C_options,\n",
    "                  'classify__penalty': ['l1']}\n",
    "estimator = Pipeline(steps=[('classify',LinearSVC(random_state=123, dual=False))])\n",
    "cv_pipelinesvm = GridSearchCV(estimator=estimator, param_grid=clf_parameters,\n",
    "                           n_jobs=-1, cv=5, scoring='roc_auc',\n",
    "                           return_train_score=True)"
   ]
  },
  {
   "cell_type": "code",
   "execution_count": 10,
   "metadata": {},
   "outputs": [
    {
     "name": "stderr",
     "output_type": "stream",
     "text": [
      "C:\\Users\\danie\\Anaconda3\\lib\\site-packages\\sklearn\\svm\\_base.py:947: ConvergenceWarning: Liblinear failed to converge, increase the number of iterations.\n",
      "  \"the number of iterations.\", ConvergenceWarning)\n"
     ]
    },
    {
     "data": {
      "text/plain": [
       "GridSearchCV(cv=5, error_score=nan,\n",
       "             estimator=Pipeline(memory=None,\n",
       "                                steps=[('classify',\n",
       "                                        LinearSVC(C=1.0, class_weight=None,\n",
       "                                                  dual=False,\n",
       "                                                  fit_intercept=True,\n",
       "                                                  intercept_scaling=1,\n",
       "                                                  loss='squared_hinge',\n",
       "                                                  max_iter=1000,\n",
       "                                                  multi_class='ovr',\n",
       "                                                  penalty='l2',\n",
       "                                                  random_state=123, tol=0.0001,\n",
       "                                                  verbose=0))],\n",
       "                                verbose=False),\n",
       "             iid='deprecated', n_jobs=-1,\n",
       "             param_grid={'classify__C': array([1.00000000e+00, 2.78255940e+00, 7.74263683e+00, 2.15443469e+01,\n",
       "       5.99484250e+01, 1.66810054e+02, 4.64158883e+02, 1.29154967e+03,\n",
       "       3.59381366e+03, 1.00000000e+04]),\n",
       "                         'classify__penalty': ['l1']},\n",
       "             pre_dispatch='2*n_jobs', refit=True, return_train_score=True,\n",
       "             scoring='roc_auc', verbose=0)"
      ]
     },
     "execution_count": 10,
     "metadata": {},
     "output_type": "execute_result"
    }
   ],
   "source": [
    "cv_pipelinesvm.fit(X=X_train, y=Y_train)"
   ]
  },
  {
   "cell_type": "code",
   "execution_count": 11,
   "metadata": {},
   "outputs": [
    {
     "name": "stdout",
     "output_type": "stream",
     "text": [
      "              precision    recall  f1-score   support\n",
      "\n",
      "           0       0.71      0.61      0.66       167\n",
      "           1       0.44      0.55      0.49        93\n",
      "\n",
      "    accuracy                           0.59       260\n",
      "   macro avg       0.57      0.58      0.57       260\n",
      "weighted avg       0.61      0.59      0.60       260\n",
      "\n"
     ]
    }
   ],
   "source": [
    "y_pred_testsvm = cv_pipelinesvm.predict(X_test)\n",
    "print(classification_report(Y_test, y_pred_testsvm))"
   ]
  },
  {
   "cell_type": "code",
   "execution_count": 46,
   "metadata": {},
   "outputs": [],
   "source": [
    "\n",
    "\n",
    "misclassified_samples_svm = X_test[Y_test != y_pred_testsvm]"
   ]
  },
  {
   "cell_type": "code",
   "execution_count": 47,
   "metadata": {},
   "outputs": [],
   "source": [
    "svm_misclassified = misclassified_samples_svm.index.tolist()"
   ]
  },
  {
   "cell_type": "code",
   "execution_count": 42,
   "metadata": {},
   "outputs": [
    {
     "name": "stderr",
     "output_type": "stream",
     "text": [
      "/Users/apetenkaya/miniconda3/lib/python3.6/site-packages/sklearn/ensemble/forest.py:245: FutureWarning: The default value of n_estimators will change from 10 in version 0.20 to 100 in 0.22.\n",
      "  \"10 in version 0.20 to 100 in 0.22.\", FutureWarning)\n"
     ]
    },
    {
     "data": {
      "text/plain": [
       "RandomForestClassifier(bootstrap=True, class_weight=None, criterion='gini',\n",
       "                       max_depth=None, max_features='auto', max_leaf_nodes=None,\n",
       "                       min_impurity_decrease=0.0, min_impurity_split=None,\n",
       "                       min_samples_leaf=1, min_samples_split=2,\n",
       "                       min_weight_fraction_leaf=0.0, n_estimators=10,\n",
       "                       n_jobs=None, oob_score=False, random_state=123,\n",
       "                       verbose=0, warm_start=False)"
      ]
     },
     "execution_count": 42,
     "metadata": {},
     "output_type": "execute_result"
    }
   ],
   "source": [
    "from sklearn.ensemble import RandomForestClassifier\n",
    "#n_estimators_options = [10,100,1000,10000,100000]# the number of trees\n",
    "#min_samples_split_options = [10,100,1000,10000] # The minimum number of samples required to split an internal node\n",
    "#max_features_options = [10,100,1000,10000] # The minimum number of samples required to split an internal node\n",
    "\n",
    "\n",
    "#clf_parameters = {'classify__criterion': ['gini'],\n",
    "#                  'classify__n_estimators': n_estimators_options,\n",
    "#                 'classify__min_samples_split': min_samples_split_options,\n",
    "#                 'classify__max_features': max_features_options}\n",
    "#estimator = Pipeline(steps=[('classify',RandomForestClassifier(random_state=123, class_weight='balanced'))])\n",
    "#cv_pipelinerf = GridSearchCV(estimator=estimator, param_grid=clf_parameters,\n",
    "#                           n_jobs=-1, cv=5, scoring='roc_auc',\n",
    "#                           return_train_score=True)\n",
    "\n",
    "\n",
    "clf = RandomForestClassifier(random_state=123)\n",
    "clf.fit(X=X_train, y=Y_train)"
   ]
  },
  {
   "cell_type": "code",
   "execution_count": 53,
   "metadata": {},
   "outputs": [],
   "source": [
    "y_pred_trainrf = clf.predict(X_train)\n",
    "y_pred_testrf = clf.predict(X_test)"
   ]
  },
  {
   "cell_type": "code",
   "execution_count": 54,
   "metadata": {},
   "outputs": [
    {
     "name": "stdout",
     "output_type": "stream",
     "text": [
      "              precision    recall  f1-score   support\n",
      "\n",
      "           0       0.69      0.69      0.69       167\n",
      "           1       0.45      0.45      0.45        93\n",
      "\n",
      "    accuracy                           0.61       260\n",
      "   macro avg       0.57      0.57      0.57       260\n",
      "weighted avg       0.61      0.61      0.61       260\n",
      "\n"
     ]
    }
   ],
   "source": [
    "print(classification_report(Y_test, y_pred_testrf))"
   ]
  },
  {
   "cell_type": "code",
   "execution_count": 65,
   "metadata": {},
   "outputs": [
    {
     "data": {
      "text/plain": [
       "['rfbaseline.pkl']"
      ]
     },
     "execution_count": 65,
     "metadata": {},
     "output_type": "execute_result"
    }
   ],
   "source": [
    "from sklearn.externals import joblib\n",
    "joblib.dump (cv_pipeline.best_estimator_, \"lrbestestimator.pkl\", compress=1)\n",
    "joblib.dump (cv_pipelinesvm.best_estimator_, \"svmbestestimator.pkl\", compress=1)\n",
    "joblib.dump (clf.base_estimator_, \"rfbaseline.pkl\", compress=1)"
   ]
  },
  {
   "cell_type": "code",
   "execution_count": 3,
   "metadata": {},
   "outputs": [],
   "source": [
    "#Regression Analysis on Betas\n",
    "dataframe = pd.read_csv('FinalBeta.csv')\n",
    "genelabel = pd.read_csv('genelabels.csv')"
   ]
  },
  {
   "cell_type": "code",
   "execution_count": 36,
   "metadata": {},
   "outputs": [
    {
     "name": "stdout",
     "output_type": "stream",
     "text": [
      "1.560057618215429e+18\n"
     ]
    }
   ],
   "source": [
    "dataframe = pd.read_csv('FinalBeta.csv')\n",
    "dataframe.set_index('GeneName', inplace = True)\n",
    "\n",
    "X = dataframe.drop(['Beta'], axis = 1)\n",
    "Y = dataframe['Beta']\n",
    "\n",
    "X_train, X_test, Y_train, Y_test = train_test_split(X, Y, test_size = 0.2, random_state=12345)\n",
    "\n",
    "\n",
    "regressor = LinearRegression().fit(X_train, Y_train) \n",
    "\n",
    "y_pred = regressor.predict(X_test)\n",
    "              \n",
    "first_model=(mean_squared_error(y_true=Y_test,y_pred=y_pred))\n",
    "print(first_model)\n",
    "#1.56005761821e_18"
   ]
  },
  {
   "cell_type": "code",
   "execution_count": null,
   "metadata": {},
   "outputs": [],
   "source": []
  },
  {
   "cell_type": "code",
   "execution_count": null,
   "metadata": {},
   "outputs": [],
   "source": [
    "#Finding optimal L1_Ratio\n",
    "\n",
    "#class sklearn.linear_model.ElasticNet(alpha=1.0, l1_ratio=0.5, fit_intercept=True, normalize=False, precompute=False, \n",
    "#max_iter=1000, copy_X=True, tol=0.0001, warm_start=False, positive=False, random_state=None, selection='cyclic')\n",
    "\n",
    "dataframe = pd.read_csv('FinalBeta.csv')\n",
    "dataframe.set_index('GeneName', inplace = True)\n",
    "\n",
    "X = dataframe.drop(['Beta'], axis = 1)\n",
    "Y = dataframe['Beta']\n",
    "\n",
    "X_train, X_test, Y_train, Y_test = train_test_split(X, Y, test_size = 0.2, random_state=12345)\n",
    "\n",
    "#regressor = LinearRegression().fit(X_train, Y_train) \n",
    "\n",
    "#y_pred = regressor.predict(X_test)\n",
    "elastic= ElasticNet(tol=0.3)\n",
    "search_elastic = GridSearchCV(estimator=elastic,param_grid={'alpha':np.logspace(-5,2,8), 'l1_ratio':[0, 0.2, 0.4, 0.6, \n",
    "                                                                                                     0.8, 1]},\n",
    "                    scoring='neg_mean_squared_error',n_jobs=1, verbose = True, refit=True,cv=5)\n",
    "\n",
    "# #Create a gridsearch using 5 fold cross validation. Best score will be evaluated by auc\n",
    "# cv_pipeline = GridSearchCV(estimator=estimator, param_grid=clf_parameters,\n",
    "#                            n_jobs=-1, cv = 5, verbose = True, scoring='roc_auc',\n",
    "#                            return_train_score=True)\n",
    "\n",
    "#fit the grid sarch\n",
    "search_elastic.fit(X=X_train, y=Y_train)"
   ]
  },
  {
   "cell_type": "code",
   "execution_count": 62,
   "metadata": {},
   "outputs": [
    {
     "ename": "NameError",
     "evalue": "name 'search_elastic' is not defined",
     "output_type": "error",
     "traceback": [
      "\u001b[1;31m---------------------------------------------------------------------------\u001b[0m",
      "\u001b[1;31mNameError\u001b[0m                                 Traceback (most recent call last)",
      "\u001b[1;32m<ipython-input-62-cba870d279ea>\u001b[0m in \u001b[0;36m<module>\u001b[1;34m\u001b[0m\n\u001b[1;32m----> 1\u001b[1;33m \u001b[0msearch_elastic\u001b[0m\u001b[1;33m.\u001b[0m\u001b[0mbest_estimator_\u001b[0m\u001b[1;33m\u001b[0m\u001b[1;33m\u001b[0m\u001b[0m\n\u001b[0m",
      "\u001b[1;31mNameError\u001b[0m: name 'search_elastic' is not defined"
     ]
    }
   ],
   "source": [
    "search_elastic.best_estimator_"
   ]
  },
  {
   "cell_type": "code",
   "execution_count": 64,
   "metadata": {},
   "outputs": [
    {
     "data": {
      "text/plain": [
       "-0.015418420653634074"
      ]
     },
     "execution_count": 64,
     "metadata": {},
     "output_type": "execute_result"
    }
   ],
   "source": [
    "search_elastic.best_score_"
   ]
  },
  {
   "cell_type": "code",
   "execution_count": 75,
   "metadata": {},
   "outputs": [
    {
     "name": "stdout",
     "output_type": "stream",
     "text": [
      "0.015119503999926955\n"
     ]
    }
   ],
   "source": [
    "#Using Elastic Net Regression Defaults\n",
    "\n",
    "dataframe = pd.read_csv('FinalBeta.csv')\n",
    "dataframe.set_index('GeneName', inplace = True)\n",
    "\n",
    "X = dataframe.drop(['Beta'], axis = 1)\n",
    "Y = dataframe['Beta']\n",
    "\n",
    "X_train, X_test, Y_train, Y_test = train_test_split(X, Y, test_size = 0.2, random_state=12345)\n",
    "\n",
    "regress = ElasticNet().fit(X_train, Y_train)\n",
    "\n",
    "\n",
    "y_pred = regress.predict(X_test)\n",
    "              \n",
    "model_error=(mean_squared_error(y_true=Y_test,y_pred=y_pred))\n",
    "print(model_error)\n",
    "#1.56005761821e_18"
   ]
  },
  {
   "cell_type": "code",
   "execution_count": 87,
   "metadata": {},
   "outputs": [
    {
     "name": "stdout",
     "output_type": "stream",
     "text": [
      "Mean Squared Error on test set 0.015119503999926953\n"
     ]
    },
    {
     "data": {
      "text/html": [
       "<div>\n",
       "<style scoped>\n",
       "    .dataframe tbody tr th:only-of-type {\n",
       "        vertical-align: middle;\n",
       "    }\n",
       "\n",
       "    .dataframe tbody tr th {\n",
       "        vertical-align: top;\n",
       "    }\n",
       "\n",
       "    .dataframe thead th {\n",
       "        text-align: right;\n",
       "    }\n",
       "</style>\n",
       "<table border=\"1\" class=\"dataframe\">\n",
       "  <thead>\n",
       "    <tr style=\"text-align: right;\">\n",
       "      <th></th>\n",
       "      <th>Columns</th>\n",
       "      <th>Coefficient Estimate</th>\n",
       "    </tr>\n",
       "  </thead>\n",
       "  <tbody>\n",
       "    <tr>\n",
       "      <th>0</th>\n",
       "      <td>10FTHF5GLUtl  (Lower)</td>\n",
       "      <td>-0.0</td>\n",
       "    </tr>\n",
       "    <tr>\n",
       "      <th>1</th>\n",
       "      <td>10FTHF5GLUtl  (Upper)</td>\n",
       "      <td>-0.0</td>\n",
       "    </tr>\n",
       "    <tr>\n",
       "      <th>2</th>\n",
       "      <td>10FTHF5GLUtm  (Lower)</td>\n",
       "      <td>-0.0</td>\n",
       "    </tr>\n",
       "    <tr>\n",
       "      <th>3</th>\n",
       "      <td>10FTHF5GLUtm  (Upper)</td>\n",
       "      <td>-0.0</td>\n",
       "    </tr>\n",
       "    <tr>\n",
       "      <th>4</th>\n",
       "      <td>10FTHF6GLUtl  (Lower)</td>\n",
       "      <td>0.0</td>\n",
       "    </tr>\n",
       "    <tr>\n",
       "      <th>...</th>\n",
       "      <td>...</td>\n",
       "      <td>...</td>\n",
       "    </tr>\n",
       "    <tr>\n",
       "      <th>15763</th>\n",
       "      <td>r2538  (Lower)</td>\n",
       "      <td>-0.0</td>\n",
       "    </tr>\n",
       "    <tr>\n",
       "      <th>15764</th>\n",
       "      <td>r2538  (Upper)</td>\n",
       "      <td>-0.0</td>\n",
       "    </tr>\n",
       "    <tr>\n",
       "      <th>15765</th>\n",
       "      <td>r2539  (Lower)</td>\n",
       "      <td>0.0</td>\n",
       "    </tr>\n",
       "    <tr>\n",
       "      <th>15766</th>\n",
       "      <td>r2539  (Upper)</td>\n",
       "      <td>-0.0</td>\n",
       "    </tr>\n",
       "    <tr>\n",
       "      <th>15767</th>\n",
       "      <td>thr_mt  (Lower)</td>\n",
       "      <td>0.0</td>\n",
       "    </tr>\n",
       "  </tbody>\n",
       "</table>\n",
       "<p>15768 rows × 2 columns</p>\n",
       "</div>"
      ],
      "text/plain": [
       "                     Columns  Coefficient Estimate\n",
       "0      10FTHF5GLUtl  (Lower)                  -0.0\n",
       "1      10FTHF5GLUtl  (Upper)                  -0.0\n",
       "2      10FTHF5GLUtm  (Lower)                  -0.0\n",
       "3      10FTHF5GLUtm  (Upper)                  -0.0\n",
       "4      10FTHF6GLUtl  (Lower)                   0.0\n",
       "...                      ...                   ...\n",
       "15763         r2538  (Lower)                  -0.0\n",
       "15764         r2538  (Upper)                  -0.0\n",
       "15765         r2539  (Lower)                   0.0\n",
       "15766         r2539  (Upper)                  -0.0\n",
       "15767        thr_mt  (Lower)                   0.0\n",
       "\n",
       "[15768 rows x 2 columns]"
      ]
     },
     "execution_count": 87,
     "metadata": {},
     "output_type": "execute_result"
    }
   ],
   "source": [
    "from sklearn.linear_model import ElasticNet \n",
    "  \n",
    "dataframe = pd.read_csv('FinalBeta.csv')\n",
    "dataframe.set_index('GeneName', inplace = True)\n",
    "\n",
    "X = dataframe.drop(['Beta'], axis = 1)\n",
    "Y = dataframe['Beta']\n",
    "\n",
    "X_train, X_test, Y_train, Y_test = train_test_split(X, Y, test_size = 0.2, random_state=12345)\n",
    "# Train the model \n",
    "e_net = ElasticNet(alpha=0.1)\n",
    "e_net.fit(X_train, Y_train) \n",
    "  \n",
    "# calculate the prediction and mean square error \n",
    "y_pred_elastic = e_net.predict(X_test) \n",
    "mean_squared_error = np.mean((y_pred_elastic - Y_test)**2) \n",
    "print(\"Mean Squared Error on test set\", mean_squared_error) \n",
    "  \n",
    "e_net_coeff = pd.DataFrame() \n",
    "e_net_coeff[\"Columns\"] = X_train.columns \n",
    "e_net_coeff['Coefficient Estimate'] = pd.Series(e_net.coef_) \n",
    "e_net_coeff "
   ]
  },
  {
   "cell_type": "code",
   "execution_count": 55,
   "metadata": {},
   "outputs": [
    {
     "name": "stdout",
     "output_type": "stream",
     "text": [
      "0.015119503999926955\n"
     ]
    }
   ],
   "source": [
    "#Using Elastic Net Regression\n",
    "\n",
    "dataframe = pd.read_csv('FinalBeta.csv') #DataFrame with Beta as the target value\n",
    "dataframe.set_index('GeneName', inplace = True)\n",
    "\n",
    "X = dataframe.drop(['Beta'], axis = 1)\n",
    "Y = dataframe['Beta']\n",
    "\n",
    "X_train, X_test, Y_train, Y_test = train_test_split(X, Y, test_size = 0.2, random_state=12345)\n",
    "\n",
    "regressor = ElasticNet(alpha=0.5, copy_X=True, fit_intercept=True, l1_ratio=1,\n",
    "           max_iter=1000, normalize=False, positive=False, precompute=False,\n",
    "           random_state=None, selection='cyclic', tol=0.2, warm_start=False).fit(X_train, Y_train)\n",
    "\n",
    "\n",
    "y_pred = regressor.predict(X_test)\n",
    "              \n",
    "new_model_error=(mean_squared_error(y_true=Y_test,y_pred=y_pred))\n",
    "print(new_model_error)\n",
    "\n",
    "regressor"
   ]
  },
  {
   "cell_type": "code",
   "execution_count": null,
   "metadata": {},
   "outputs": [],
   "source": []
  },
  {
   "cell_type": "code",
   "execution_count": null,
   "metadata": {},
   "outputs": [],
   "source": []
  },
  {
   "cell_type": "code",
   "execution_count": 78,
   "metadata": {},
   "outputs": [
    {
     "data": {
      "text/plain": [
       "GeneName\n",
       "247_AT1      -0.002913\n",
       "57665_AT1     0.074417\n",
       "4720_AT1     -0.385890\n",
       "6565_AT1      0.019093\n",
       "10165_AT1     0.078687\n",
       "                ...   \n",
       "5337_AT1      0.153020\n",
       "57835_AT1     0.010507\n",
       "9056_AT1     -0.012149\n",
       "2027_AT1     -0.065354\n",
       "132158_AT1    0.080871\n",
       "Name: Beta, Length: 260, dtype: float64"
      ]
     },
     "execution_count": 78,
     "metadata": {},
     "output_type": "execute_result"
    }
   ],
   "source": [
    "Y_test"
   ]
  },
  {
   "cell_type": "code",
   "execution_count": 79,
   "metadata": {},
   "outputs": [
    {
     "data": {
      "text/html": [
       "<div>\n",
       "<style scoped>\n",
       "    .dataframe tbody tr th:only-of-type {\n",
       "        vertical-align: middle;\n",
       "    }\n",
       "\n",
       "    .dataframe tbody tr th {\n",
       "        vertical-align: top;\n",
       "    }\n",
       "\n",
       "    .dataframe thead th {\n",
       "        text-align: right;\n",
       "    }\n",
       "</style>\n",
       "<table border=\"1\" class=\"dataframe\">\n",
       "  <thead>\n",
       "    <tr style=\"text-align: right;\">\n",
       "      <th></th>\n",
       "      <th>10FTHF5GLUtl  (Lower)</th>\n",
       "      <th>10FTHF5GLUtl  (Upper)</th>\n",
       "      <th>10FTHF5GLUtm  (Lower)</th>\n",
       "      <th>10FTHF5GLUtm  (Upper)</th>\n",
       "      <th>10FTHF6GLUtl  (Lower)</th>\n",
       "      <th>10FTHF6GLUtl  (Upper)</th>\n",
       "      <th>10FTHF6GLUtm  (Lower)</th>\n",
       "      <th>10FTHF6GLUtm  (Upper)</th>\n",
       "      <th>10FTHF7GLUtl  (Lower)</th>\n",
       "      <th>10FTHF7GLUtm  (Lower)</th>\n",
       "      <th>...</th>\n",
       "      <th>r2535m  (Lower)</th>\n",
       "      <th>r2535m  (Upper)</th>\n",
       "      <th>r2537  (Lower)</th>\n",
       "      <th>r2537  (Upper)</th>\n",
       "      <th>r2538  (Lower)</th>\n",
       "      <th>r2538  (Upper)</th>\n",
       "      <th>r2539  (Lower)</th>\n",
       "      <th>r2539  (Upper)</th>\n",
       "      <th>thr_mt  (Lower)</th>\n",
       "      <th>Beta</th>\n",
       "    </tr>\n",
       "    <tr>\n",
       "      <th>GeneName</th>\n",
       "      <th></th>\n",
       "      <th></th>\n",
       "      <th></th>\n",
       "      <th></th>\n",
       "      <th></th>\n",
       "      <th></th>\n",
       "      <th></th>\n",
       "      <th></th>\n",
       "      <th></th>\n",
       "      <th></th>\n",
       "      <th></th>\n",
       "      <th></th>\n",
       "      <th></th>\n",
       "      <th></th>\n",
       "      <th></th>\n",
       "      <th></th>\n",
       "      <th></th>\n",
       "      <th></th>\n",
       "      <th></th>\n",
       "      <th></th>\n",
       "      <th></th>\n",
       "    </tr>\n",
       "  </thead>\n",
       "  <tbody>\n",
       "    <tr>\n",
       "      <th>53947_AT1</th>\n",
       "      <td>-0.094323</td>\n",
       "      <td>-0.061771</td>\n",
       "      <td>-0.051165</td>\n",
       "      <td>-0.004331</td>\n",
       "      <td>0.045383</td>\n",
       "      <td>0.078885</td>\n",
       "      <td>0.039759</td>\n",
       "      <td>0.053827</td>\n",
       "      <td>0.074091</td>\n",
       "      <td>0.036798</td>\n",
       "      <td>...</td>\n",
       "      <td>-0.018348</td>\n",
       "      <td>-0.801389</td>\n",
       "      <td>0.951153</td>\n",
       "      <td>-1.456913</td>\n",
       "      <td>1.805275</td>\n",
       "      <td>-1.456913</td>\n",
       "      <td>0.277695</td>\n",
       "      <td>-20.784610</td>\n",
       "      <td>0.690347</td>\n",
       "      <td>-0.109850</td>\n",
       "    </tr>\n",
       "    <tr>\n",
       "      <th>65985_AT1</th>\n",
       "      <td>-0.044243</td>\n",
       "      <td>-0.061771</td>\n",
       "      <td>-0.000986</td>\n",
       "      <td>-0.004331</td>\n",
       "      <td>-0.021091</td>\n",
       "      <td>0.078885</td>\n",
       "      <td>-0.026154</td>\n",
       "      <td>0.053827</td>\n",
       "      <td>0.074091</td>\n",
       "      <td>-0.023073</td>\n",
       "      <td>...</td>\n",
       "      <td>-0.018348</td>\n",
       "      <td>-0.801389</td>\n",
       "      <td>0.951153</td>\n",
       "      <td>-1.456913</td>\n",
       "      <td>1.805275</td>\n",
       "      <td>-1.456913</td>\n",
       "      <td>0.277695</td>\n",
       "      <td>-20.784610</td>\n",
       "      <td>0.690347</td>\n",
       "      <td>0.160670</td>\n",
       "    </tr>\n",
       "    <tr>\n",
       "      <th>13_AT1</th>\n",
       "      <td>-0.044243</td>\n",
       "      <td>-0.061771</td>\n",
       "      <td>-0.000986</td>\n",
       "      <td>-0.004331</td>\n",
       "      <td>-0.021091</td>\n",
       "      <td>0.078885</td>\n",
       "      <td>-0.026154</td>\n",
       "      <td>0.053827</td>\n",
       "      <td>0.074091</td>\n",
       "      <td>-0.023073</td>\n",
       "      <td>...</td>\n",
       "      <td>-0.018348</td>\n",
       "      <td>-0.801389</td>\n",
       "      <td>0.951153</td>\n",
       "      <td>-1.456913</td>\n",
       "      <td>1.805275</td>\n",
       "      <td>-1.456913</td>\n",
       "      <td>0.277695</td>\n",
       "      <td>-20.784610</td>\n",
       "      <td>0.690347</td>\n",
       "      <td>-0.023140</td>\n",
       "    </tr>\n",
       "    <tr>\n",
       "      <th>51166_AT1</th>\n",
       "      <td>-3.985429</td>\n",
       "      <td>0.012277</td>\n",
       "      <td>-3.949980</td>\n",
       "      <td>0.059070</td>\n",
       "      <td>-5.521336</td>\n",
       "      <td>0.078885</td>\n",
       "      <td>-4.960144</td>\n",
       "      <td>6.236846</td>\n",
       "      <td>-3.251122</td>\n",
       "      <td>-3.825138</td>\n",
       "      <td>...</td>\n",
       "      <td>-0.018348</td>\n",
       "      <td>-0.801389</td>\n",
       "      <td>0.951153</td>\n",
       "      <td>-1.456913</td>\n",
       "      <td>1.805275</td>\n",
       "      <td>-1.456913</td>\n",
       "      <td>0.277695</td>\n",
       "      <td>0.048113</td>\n",
       "      <td>0.690347</td>\n",
       "      <td>0.059995</td>\n",
       "    </tr>\n",
       "    <tr>\n",
       "      <th>10157_AT1</th>\n",
       "      <td>-0.058712</td>\n",
       "      <td>0.012277</td>\n",
       "      <td>-0.015483</td>\n",
       "      <td>-0.125263</td>\n",
       "      <td>-0.030128</td>\n",
       "      <td>0.078885</td>\n",
       "      <td>-0.035115</td>\n",
       "      <td>0.053827</td>\n",
       "      <td>0.089752</td>\n",
       "      <td>-0.031213</td>\n",
       "      <td>...</td>\n",
       "      <td>-0.018348</td>\n",
       "      <td>-0.801389</td>\n",
       "      <td>0.951153</td>\n",
       "      <td>-1.456913</td>\n",
       "      <td>1.805275</td>\n",
       "      <td>-1.456913</td>\n",
       "      <td>0.277695</td>\n",
       "      <td>0.048113</td>\n",
       "      <td>0.690347</td>\n",
       "      <td>-0.021270</td>\n",
       "    </tr>\n",
       "    <tr>\n",
       "      <th>...</th>\n",
       "      <td>...</td>\n",
       "      <td>...</td>\n",
       "      <td>...</td>\n",
       "      <td>...</td>\n",
       "      <td>...</td>\n",
       "      <td>...</td>\n",
       "      <td>...</td>\n",
       "      <td>...</td>\n",
       "      <td>...</td>\n",
       "      <td>...</td>\n",
       "      <td>...</td>\n",
       "      <td>...</td>\n",
       "      <td>...</td>\n",
       "      <td>...</td>\n",
       "      <td>...</td>\n",
       "      <td>...</td>\n",
       "      <td>...</td>\n",
       "      <td>...</td>\n",
       "      <td>...</td>\n",
       "      <td>...</td>\n",
       "      <td>...</td>\n",
       "    </tr>\n",
       "    <tr>\n",
       "      <th>7390_AT1</th>\n",
       "      <td>-0.094323</td>\n",
       "      <td>0.012277</td>\n",
       "      <td>-0.051165</td>\n",
       "      <td>0.059070</td>\n",
       "      <td>-0.052372</td>\n",
       "      <td>0.078885</td>\n",
       "      <td>-0.057172</td>\n",
       "      <td>0.053827</td>\n",
       "      <td>0.011450</td>\n",
       "      <td>-0.051247</td>\n",
       "      <td>...</td>\n",
       "      <td>-0.018348</td>\n",
       "      <td>1.247833</td>\n",
       "      <td>-1.051356</td>\n",
       "      <td>0.686383</td>\n",
       "      <td>-0.553932</td>\n",
       "      <td>0.686383</td>\n",
       "      <td>0.277695</td>\n",
       "      <td>0.048113</td>\n",
       "      <td>0.138834</td>\n",
       "      <td>-0.126860</td>\n",
       "    </tr>\n",
       "    <tr>\n",
       "      <th>51741_AT1</th>\n",
       "      <td>-0.094323</td>\n",
       "      <td>0.012277</td>\n",
       "      <td>-0.051165</td>\n",
       "      <td>0.059070</td>\n",
       "      <td>-0.052372</td>\n",
       "      <td>0.078885</td>\n",
       "      <td>-0.057172</td>\n",
       "      <td>0.053827</td>\n",
       "      <td>0.011450</td>\n",
       "      <td>-0.051247</td>\n",
       "      <td>...</td>\n",
       "      <td>-0.018348</td>\n",
       "      <td>1.247833</td>\n",
       "      <td>-1.051356</td>\n",
       "      <td>0.686383</td>\n",
       "      <td>-0.553932</td>\n",
       "      <td>0.686383</td>\n",
       "      <td>0.277695</td>\n",
       "      <td>0.048113</td>\n",
       "      <td>0.138834</td>\n",
       "      <td>-0.072429</td>\n",
       "    </tr>\n",
       "    <tr>\n",
       "      <th>7498_AT1</th>\n",
       "      <td>-0.094323</td>\n",
       "      <td>0.012277</td>\n",
       "      <td>-0.051165</td>\n",
       "      <td>0.059070</td>\n",
       "      <td>-0.052372</td>\n",
       "      <td>0.078885</td>\n",
       "      <td>-0.057172</td>\n",
       "      <td>0.053827</td>\n",
       "      <td>0.011450</td>\n",
       "      <td>-0.051247</td>\n",
       "      <td>...</td>\n",
       "      <td>-0.018348</td>\n",
       "      <td>1.247833</td>\n",
       "      <td>-1.051356</td>\n",
       "      <td>0.686383</td>\n",
       "      <td>-0.553932</td>\n",
       "      <td>0.686383</td>\n",
       "      <td>0.277695</td>\n",
       "      <td>0.048113</td>\n",
       "      <td>0.138834</td>\n",
       "      <td>0.030918</td>\n",
       "    </tr>\n",
       "    <tr>\n",
       "      <th>9942_AT1</th>\n",
       "      <td>-0.094323</td>\n",
       "      <td>0.012277</td>\n",
       "      <td>-0.051165</td>\n",
       "      <td>0.059070</td>\n",
       "      <td>-0.052372</td>\n",
       "      <td>0.078885</td>\n",
       "      <td>-0.057172</td>\n",
       "      <td>0.053827</td>\n",
       "      <td>0.011450</td>\n",
       "      <td>-0.051247</td>\n",
       "      <td>...</td>\n",
       "      <td>-0.018348</td>\n",
       "      <td>1.247833</td>\n",
       "      <td>-1.051356</td>\n",
       "      <td>0.686383</td>\n",
       "      <td>-0.553932</td>\n",
       "      <td>0.686383</td>\n",
       "      <td>0.277695</td>\n",
       "      <td>0.048113</td>\n",
       "      <td>0.138834</td>\n",
       "      <td>-0.024406</td>\n",
       "    </tr>\n",
       "    <tr>\n",
       "      <th>284273_AT1</th>\n",
       "      <td>-0.094323</td>\n",
       "      <td>0.012277</td>\n",
       "      <td>-0.051165</td>\n",
       "      <td>0.059070</td>\n",
       "      <td>-0.052372</td>\n",
       "      <td>0.078885</td>\n",
       "      <td>-0.057172</td>\n",
       "      <td>0.053827</td>\n",
       "      <td>0.011450</td>\n",
       "      <td>-0.051247</td>\n",
       "      <td>...</td>\n",
       "      <td>-0.018348</td>\n",
       "      <td>1.247833</td>\n",
       "      <td>-1.051356</td>\n",
       "      <td>0.686383</td>\n",
       "      <td>-0.553932</td>\n",
       "      <td>0.686383</td>\n",
       "      <td>0.277695</td>\n",
       "      <td>0.048113</td>\n",
       "      <td>0.138834</td>\n",
       "      <td>0.071946</td>\n",
       "    </tr>\n",
       "  </tbody>\n",
       "</table>\n",
       "<p>1299 rows × 15769 columns</p>\n",
       "</div>"
      ],
      "text/plain": [
       "            10FTHF5GLUtl  (Lower)  10FTHF5GLUtl  (Upper)  \\\n",
       "GeneName                                                   \n",
       "53947_AT1               -0.094323              -0.061771   \n",
       "65985_AT1               -0.044243              -0.061771   \n",
       "13_AT1                  -0.044243              -0.061771   \n",
       "51166_AT1               -3.985429               0.012277   \n",
       "10157_AT1               -0.058712               0.012277   \n",
       "...                           ...                    ...   \n",
       "7390_AT1                -0.094323               0.012277   \n",
       "51741_AT1               -0.094323               0.012277   \n",
       "7498_AT1                -0.094323               0.012277   \n",
       "9942_AT1                -0.094323               0.012277   \n",
       "284273_AT1              -0.094323               0.012277   \n",
       "\n",
       "            10FTHF5GLUtm  (Lower)  10FTHF5GLUtm  (Upper)  \\\n",
       "GeneName                                                   \n",
       "53947_AT1               -0.051165              -0.004331   \n",
       "65985_AT1               -0.000986              -0.004331   \n",
       "13_AT1                  -0.000986              -0.004331   \n",
       "51166_AT1               -3.949980               0.059070   \n",
       "10157_AT1               -0.015483              -0.125263   \n",
       "...                           ...                    ...   \n",
       "7390_AT1                -0.051165               0.059070   \n",
       "51741_AT1               -0.051165               0.059070   \n",
       "7498_AT1                -0.051165               0.059070   \n",
       "9942_AT1                -0.051165               0.059070   \n",
       "284273_AT1              -0.051165               0.059070   \n",
       "\n",
       "            10FTHF6GLUtl  (Lower)  10FTHF6GLUtl  (Upper)  \\\n",
       "GeneName                                                   \n",
       "53947_AT1                0.045383               0.078885   \n",
       "65985_AT1               -0.021091               0.078885   \n",
       "13_AT1                  -0.021091               0.078885   \n",
       "51166_AT1               -5.521336               0.078885   \n",
       "10157_AT1               -0.030128               0.078885   \n",
       "...                           ...                    ...   \n",
       "7390_AT1                -0.052372               0.078885   \n",
       "51741_AT1               -0.052372               0.078885   \n",
       "7498_AT1                -0.052372               0.078885   \n",
       "9942_AT1                -0.052372               0.078885   \n",
       "284273_AT1              -0.052372               0.078885   \n",
       "\n",
       "            10FTHF6GLUtm  (Lower)  10FTHF6GLUtm  (Upper)  \\\n",
       "GeneName                                                   \n",
       "53947_AT1                0.039759               0.053827   \n",
       "65985_AT1               -0.026154               0.053827   \n",
       "13_AT1                  -0.026154               0.053827   \n",
       "51166_AT1               -4.960144               6.236846   \n",
       "10157_AT1               -0.035115               0.053827   \n",
       "...                           ...                    ...   \n",
       "7390_AT1                -0.057172               0.053827   \n",
       "51741_AT1               -0.057172               0.053827   \n",
       "7498_AT1                -0.057172               0.053827   \n",
       "9942_AT1                -0.057172               0.053827   \n",
       "284273_AT1              -0.057172               0.053827   \n",
       "\n",
       "            10FTHF7GLUtl  (Lower)  10FTHF7GLUtm  (Lower)  ...  \\\n",
       "GeneName                                                  ...   \n",
       "53947_AT1                0.074091               0.036798  ...   \n",
       "65985_AT1                0.074091              -0.023073  ...   \n",
       "13_AT1                   0.074091              -0.023073  ...   \n",
       "51166_AT1               -3.251122              -3.825138  ...   \n",
       "10157_AT1                0.089752              -0.031213  ...   \n",
       "...                           ...                    ...  ...   \n",
       "7390_AT1                 0.011450              -0.051247  ...   \n",
       "51741_AT1                0.011450              -0.051247  ...   \n",
       "7498_AT1                 0.011450              -0.051247  ...   \n",
       "9942_AT1                 0.011450              -0.051247  ...   \n",
       "284273_AT1               0.011450              -0.051247  ...   \n",
       "\n",
       "            r2535m  (Lower)  r2535m  (Upper)  r2537  (Lower)  r2537  (Upper)  \\\n",
       "GeneName                                                                       \n",
       "53947_AT1         -0.018348        -0.801389        0.951153       -1.456913   \n",
       "65985_AT1         -0.018348        -0.801389        0.951153       -1.456913   \n",
       "13_AT1            -0.018348        -0.801389        0.951153       -1.456913   \n",
       "51166_AT1         -0.018348        -0.801389        0.951153       -1.456913   \n",
       "10157_AT1         -0.018348        -0.801389        0.951153       -1.456913   \n",
       "...                     ...              ...             ...             ...   \n",
       "7390_AT1          -0.018348         1.247833       -1.051356        0.686383   \n",
       "51741_AT1         -0.018348         1.247833       -1.051356        0.686383   \n",
       "7498_AT1          -0.018348         1.247833       -1.051356        0.686383   \n",
       "9942_AT1          -0.018348         1.247833       -1.051356        0.686383   \n",
       "284273_AT1        -0.018348         1.247833       -1.051356        0.686383   \n",
       "\n",
       "            r2538  (Lower)  r2538  (Upper)  r2539  (Lower)  r2539  (Upper)  \\\n",
       "GeneName                                                                     \n",
       "53947_AT1         1.805275       -1.456913        0.277695      -20.784610   \n",
       "65985_AT1         1.805275       -1.456913        0.277695      -20.784610   \n",
       "13_AT1            1.805275       -1.456913        0.277695      -20.784610   \n",
       "51166_AT1         1.805275       -1.456913        0.277695        0.048113   \n",
       "10157_AT1         1.805275       -1.456913        0.277695        0.048113   \n",
       "...                    ...             ...             ...             ...   \n",
       "7390_AT1         -0.553932        0.686383        0.277695        0.048113   \n",
       "51741_AT1        -0.553932        0.686383        0.277695        0.048113   \n",
       "7498_AT1         -0.553932        0.686383        0.277695        0.048113   \n",
       "9942_AT1         -0.553932        0.686383        0.277695        0.048113   \n",
       "284273_AT1       -0.553932        0.686383        0.277695        0.048113   \n",
       "\n",
       "            thr_mt  (Lower)      Beta  \n",
       "GeneName                               \n",
       "53947_AT1          0.690347 -0.109850  \n",
       "65985_AT1          0.690347  0.160670  \n",
       "13_AT1             0.690347 -0.023140  \n",
       "51166_AT1          0.690347  0.059995  \n",
       "10157_AT1          0.690347 -0.021270  \n",
       "...                     ...       ...  \n",
       "7390_AT1           0.138834 -0.126860  \n",
       "51741_AT1          0.138834 -0.072429  \n",
       "7498_AT1           0.138834  0.030918  \n",
       "9942_AT1           0.138834 -0.024406  \n",
       "284273_AT1         0.138834  0.071946  \n",
       "\n",
       "[1299 rows x 15769 columns]"
      ]
     },
     "execution_count": 79,
     "metadata": {},
     "output_type": "execute_result"
    }
   ],
   "source": [
    "dataframe"
   ]
  },
  {
   "cell_type": "code",
   "execution_count": null,
   "metadata": {},
   "outputs": [],
   "source": [
    "labelsdf = pd.read_csv('genelabels.csv')"
   ]
  },
  {
   "cell_type": "code",
   "execution_count": 26,
   "metadata": {},
   "outputs": [],
   "source": [
    "#Analysis of MisClassified\n",
    "fdr_logistic = []\n",
    "\n",
    "genelist = labelsdf['Bigg.ID.Name'].tolist()\n",
    "fdrlist = labelsdf['fdr'].tolist()\n",
    "for x in range(len(logistic_misclassified)):\n",
    "    fdr_logistic.append(\"N/A\")\n",
    "\n",
    "newdict = {genelist[i]: fdrlist[i] for i in range(len(genelist))} \n",
    "\n",
    "\n",
    "# for i in range(len(logistic_misclassified)):\n",
    "#     for key, value in newdict.items():\n",
    "#         if(logistic_misclassified.index[i] == key):\n",
    "#             fdr_logistic[i] = value\n"
   ]
  },
  {
   "cell_type": "code",
   "execution_count": 31,
   "metadata": {},
   "outputs": [],
   "source": [
    "for i in logistic_misclassified:\n",
    "    for key, value in newdict.items():\n",
    "        if(i == key):\n",
    "            fdr_logistic[logistic_misclassified.index(i)] = value\n"
   ]
  },
  {
   "cell_type": "code",
   "execution_count": 37,
   "metadata": {},
   "outputs": [
    {
     "data": {
      "text/html": [
       "<div>\n",
       "<style scoped>\n",
       "    .dataframe tbody tr th:only-of-type {\n",
       "        vertical-align: middle;\n",
       "    }\n",
       "\n",
       "    .dataframe tbody tr th {\n",
       "        vertical-align: top;\n",
       "    }\n",
       "\n",
       "    .dataframe thead th {\n",
       "        text-align: right;\n",
       "    }\n",
       "</style>\n",
       "<table border=\"1\" class=\"dataframe\">\n",
       "  <thead>\n",
       "    <tr style=\"text-align: right;\">\n",
       "      <th></th>\n",
       "      <th>GeneName</th>\n",
       "      <th>FDR</th>\n",
       "    </tr>\n",
       "  </thead>\n",
       "  <tbody>\n",
       "    <tr>\n",
       "      <th>0</th>\n",
       "      <td>247_AT1</td>\n",
       "      <td>0.339290</td>\n",
       "    </tr>\n",
       "    <tr>\n",
       "      <th>1</th>\n",
       "      <td>10165_AT1</td>\n",
       "      <td>0.784880</td>\n",
       "    </tr>\n",
       "    <tr>\n",
       "      <th>2</th>\n",
       "      <td>5631_AT1</td>\n",
       "      <td>0.024034</td>\n",
       "    </tr>\n",
       "    <tr>\n",
       "      <th>3</th>\n",
       "      <td>10873_AT1</td>\n",
       "      <td>0.465470</td>\n",
       "    </tr>\n",
       "    <tr>\n",
       "      <th>4</th>\n",
       "      <td>1376_AT1</td>\n",
       "      <td>0.863630</td>\n",
       "    </tr>\n",
       "    <tr>\n",
       "      <th>...</th>\n",
       "      <td>...</td>\n",
       "      <td>...</td>\n",
       "    </tr>\n",
       "    <tr>\n",
       "      <th>107</th>\n",
       "      <td>4144_AT1</td>\n",
       "      <td>0.000000</td>\n",
       "    </tr>\n",
       "    <tr>\n",
       "      <th>108</th>\n",
       "      <td>51166_AT1</td>\n",
       "      <td>0.958120</td>\n",
       "    </tr>\n",
       "    <tr>\n",
       "      <th>109</th>\n",
       "      <td>8527_AT1</td>\n",
       "      <td>0.255010</td>\n",
       "    </tr>\n",
       "    <tr>\n",
       "      <th>110</th>\n",
       "      <td>4199_AT1</td>\n",
       "      <td>0.054390</td>\n",
       "    </tr>\n",
       "    <tr>\n",
       "      <th>111</th>\n",
       "      <td>10396_AT1</td>\n",
       "      <td>0.531950</td>\n",
       "    </tr>\n",
       "  </tbody>\n",
       "</table>\n",
       "<p>112 rows × 2 columns</p>\n",
       "</div>"
      ],
      "text/plain": [
       "      GeneName       FDR\n",
       "0      247_AT1  0.339290\n",
       "1    10165_AT1  0.784880\n",
       "2     5631_AT1  0.024034\n",
       "3    10873_AT1  0.465470\n",
       "4     1376_AT1  0.863630\n",
       "..         ...       ...\n",
       "107   4144_AT1  0.000000\n",
       "108  51166_AT1  0.958120\n",
       "109   8527_AT1  0.255010\n",
       "110   4199_AT1  0.054390\n",
       "111  10396_AT1  0.531950\n",
       "\n",
       "[112 rows x 2 columns]"
      ]
     },
     "execution_count": 37,
     "metadata": {},
     "output_type": "execute_result"
    }
   ],
   "source": [
    "Analysis = pd.DataFrame(list(zip(logistic_misclassified, fdr_logistic)), \n",
    "               columns =['GeneName', 'FDR']) \n",
    "Analysis"
   ]
  },
  {
   "cell_type": "code",
   "execution_count": 42,
   "metadata": {},
   "outputs": [
    {
     "data": {
      "text/plain": [
       "(array([38., 15.,  7.,  7., 10.,  7.,  7.,  6.,  4., 11.]),\n",
       " array([0.      , 0.099451, 0.198902, 0.298353, 0.397804, 0.497255,\n",
       "        0.596706, 0.696157, 0.795608, 0.895059, 0.99451 ]),\n",
       " <a list of 10 Patch objects>)"
      ]
     },
     "execution_count": 42,
     "metadata": {},
     "output_type": "execute_result"
    },
    {
     "data": {
      "image/png": "[encoded data removed]",
      "text/plain": [
       "<Figure size 432x288 with 1 Axes>"
      ]
     },
     "metadata": {
      "needs_background": "light"
     },
     "output_type": "display_data"
    }
   ],
   "source": [
    "import matplotlib.pyplot as plt\n",
    "plt.hist(Analysis['FDR'])\n",
    "plt.title = \"Logistic Regression misclassification \""
   ]
  },
  {
   "cell_type": "code",
   "execution_count": 48,
   "metadata": {},
   "outputs": [],
   "source": [
    "fdr_svm = []\n",
    "\n",
    "for x in range(len(svm_misclassified)):\n",
    "    fdr_svm.append(\"N/A\")\n",
    "\n",
    "for i in svm_misclassified:\n",
    "    for key, value in newdict.items():\n",
    "        if(i == key):\n",
    "            fdr_svm[svm_misclassified.index(i)] = value"
   ]
  },
  {
   "cell_type": "code",
   "execution_count": 49,
   "metadata": {},
   "outputs": [
    {
     "data": {
      "text/html": [
       "<div>\n",
       "<style scoped>\n",
       "    .dataframe tbody tr th:only-of-type {\n",
       "        vertical-align: middle;\n",
       "    }\n",
       "\n",
       "    .dataframe tbody tr th {\n",
       "        vertical-align: top;\n",
       "    }\n",
       "\n",
       "    .dataframe thead th {\n",
       "        text-align: right;\n",
       "    }\n",
       "</style>\n",
       "<table border=\"1\" class=\"dataframe\">\n",
       "  <thead>\n",
       "    <tr style=\"text-align: right;\">\n",
       "      <th></th>\n",
       "      <th>GeneName</th>\n",
       "      <th>FDR</th>\n",
       "    </tr>\n",
       "  </thead>\n",
       "  <tbody>\n",
       "    <tr>\n",
       "      <th>0</th>\n",
       "      <td>6565_AT1</td>\n",
       "      <td>0.590600</td>\n",
       "    </tr>\n",
       "    <tr>\n",
       "      <th>1</th>\n",
       "      <td>5631_AT1</td>\n",
       "      <td>0.024034</td>\n",
       "    </tr>\n",
       "    <tr>\n",
       "      <th>2</th>\n",
       "      <td>10873_AT1</td>\n",
       "      <td>0.465470</td>\n",
       "    </tr>\n",
       "    <tr>\n",
       "      <th>3</th>\n",
       "      <td>1376_AT1</td>\n",
       "      <td>0.863630</td>\n",
       "    </tr>\n",
       "    <tr>\n",
       "      <th>4</th>\n",
       "      <td>1645_AT1</td>\n",
       "      <td>0.153980</td>\n",
       "    </tr>\n",
       "    <tr>\n",
       "      <th>...</th>\n",
       "      <td>...</td>\n",
       "      <td>...</td>\n",
       "    </tr>\n",
       "    <tr>\n",
       "      <th>102</th>\n",
       "      <td>4144_AT1</td>\n",
       "      <td>0.000000</td>\n",
       "    </tr>\n",
       "    <tr>\n",
       "      <th>103</th>\n",
       "      <td>51166_AT1</td>\n",
       "      <td>0.958120</td>\n",
       "    </tr>\n",
       "    <tr>\n",
       "      <th>104</th>\n",
       "      <td>4199_AT1</td>\n",
       "      <td>0.054390</td>\n",
       "    </tr>\n",
       "    <tr>\n",
       "      <th>105</th>\n",
       "      <td>10396_AT1</td>\n",
       "      <td>0.531950</td>\n",
       "    </tr>\n",
       "    <tr>\n",
       "      <th>106</th>\n",
       "      <td>5337_AT1</td>\n",
       "      <td>0.225210</td>\n",
       "    </tr>\n",
       "  </tbody>\n",
       "</table>\n",
       "<p>107 rows × 2 columns</p>\n",
       "</div>"
      ],
      "text/plain": [
       "      GeneName       FDR\n",
       "0     6565_AT1  0.590600\n",
       "1     5631_AT1  0.024034\n",
       "2    10873_AT1  0.465470\n",
       "3     1376_AT1  0.863630\n",
       "4     1645_AT1  0.153980\n",
       "..         ...       ...\n",
       "102   4144_AT1  0.000000\n",
       "103  51166_AT1  0.958120\n",
       "104   4199_AT1  0.054390\n",
       "105  10396_AT1  0.531950\n",
       "106   5337_AT1  0.225210\n",
       "\n",
       "[107 rows x 2 columns]"
      ]
     },
     "execution_count": 49,
     "metadata": {},
     "output_type": "execute_result"
    }
   ],
   "source": [
    "Analysis2 = pd.DataFrame(list(zip(svm_misclassified, fdr_svm)), \n",
    "               columns =['GeneName', 'FDR']) \n",
    "Analysis2"
   ]
  },
  {
   "cell_type": "code",
   "execution_count": 52,
   "metadata": {},
   "outputs": [
    {
     "data": {
      "text/plain": [
       "(array([43., 14.,  5.,  5.,  7.,  8.,  7.,  5.,  4.,  9.]),\n",
       " array([0.      , 0.099451, 0.198902, 0.298353, 0.397804, 0.497255,\n",
       "        0.596706, 0.696157, 0.795608, 0.895059, 0.99451 ]),\n",
       " <a list of 10 Patch objects>)"
      ]
     },
     "execution_count": 52,
     "metadata": {},
     "output_type": "execute_result"
    },
    {
     "data": {
      "image/png": "[encoded data removed]",
      "text/plain": [
       "<Figure size 432x288 with 1 Axes>"
      ]
     },
     "metadata": {
      "needs_background": "light"
     },
     "output_type": "display_data"
    }
   ],
   "source": [
    "plt.hist(Analysis2['FDR'], color='yellow')\n"
   ]
  },
  {
   "cell_type": "code",
   "execution_count": null,
   "metadata": {},
   "outputs": [],
   "source": []
  }
 ],
 "metadata": {
  "kernelspec": {
   "display_name": "Python 3",
   "language": "python",
   "name": "python3"
  },
  "language_info": {
   "codemirror_mode": {
    "name": "ipython",
    "version": 3
   },
   "file_extension": ".py",
   "mimetype": "text/x-python",
   "name": "python",
   "nbconvert_exporter": "python",
   "pygments_lexer": "ipython3",
   "version": "3.7.6"
  }
 },
 "nbformat": 4,
 "nbformat_minor": 4
}
